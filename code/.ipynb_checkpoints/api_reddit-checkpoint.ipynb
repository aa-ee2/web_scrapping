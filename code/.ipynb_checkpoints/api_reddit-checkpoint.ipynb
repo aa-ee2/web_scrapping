{
 "cells": [
  {
   "cell_type": "code",
   "execution_count": null,
   "id": "07c3ee10-c522-4cf6-9e8f-b958774e852a",
   "metadata": {},
   "outputs": [],
   "source": [
    "#Realizado por Margarita Mamani\n",
    "import praw\n",
    "\n",
    "reddit = praw.Reddit(\n",
    "    client_id=\"CLIENTID\",\n",
    "    client_secret=\"CLIENTSECRET\",  \n",
    "    username=\"USERNAME\",\n",
    "    password=\"PASSWORD\",\n",
    "    user_agent=\"USERAGENT\"\n",
    ")\n",
    "\n",
    "print(\"Autenticado como:\", reddit.user.me())\n"
   ]
  },
  {
   "cell_type": "code",
   "execution_count": null,
   "id": "15923383-72e3-4850-a970-26a735715b09",
   "metadata": {},
   "outputs": [],
   "source": [
    "import pandas as pd\n",
    "from datetime import datetime\n",
    "\n",
    "# --- Configuración ---\n",
    "subreddits = [\"politics\", \"PoliticalDiscussion\", \"worldnews\"]  # sin \"r/\"\n",
    "mode = \"top\"   # cambia a \"top\" \n",
    "\n",
    "# --- Recolección ---\n",
    "rows = []\n",
    "for name in subreddits:\n",
    "    sr = reddit.subreddit(name)\n",
    "    listing = getattr(sr, mode)(limit=20)  # 20 posts por subreddit, de 'hot' o 'top'\n",
    "    for s in listing:\n",
    "        rows.append({\n",
    "            \"subreddit\": name,\n",
    "            \"title\": s.title,\n",
    "            \"score\": s.score,\n",
    "            \"num_comments\": s.num_comments,\n",
    "            \"id\": s.id,\n",
    "            \"url\": s.url\n",
    "        })\n",
    "\n",
    "df = pd.DataFrame(rows, columns=[\"subreddit\", \"title\", \"score\", \"num_comments\", \"id\", \"url\"])\n",
    "print(f\"Total filas: {len(df)} (deberían ser {len(subreddits)*20})\")\n",
    "df.head()\n"
   ]
  },
  {
   "cell_type": "code",
   "execution_count": null,
   "id": "a72c9416-1d84-4e11-876f-639a7bacb627",
   "metadata": {},
   "outputs": [],
   "source": [
    "stamp = datetime.now().strftime(\"%Y%m%d_%H%M\")\n",
    "out_path = f\"reddit_posts_{mode}_{stamp}.csv\"\n",
    "df.to_csv(out_path, index=False, encoding=\"utf-8\")\n",
    "print(\"Guardado en:\", out_path)\n"
   ]
  },
  {
   "cell_type": "code",
   "execution_count": null,
   "id": "57b5a567-2c6a-4774-8971-a6baa5c80795",
   "metadata": {},
   "outputs": [],
   "source": [
    "comments_data = []\n",
    "\n",
    "for pid in df[\"id\"].astype(str):\n",
    "    submission = reddit.submission(id=pid)\n",
    "    submission.comment_sort = \"top\"  # ordenar por relevancia\n",
    "    submission.comments.replace_more(limit=0)\n",
    "\n",
    "    # Tomar máximo 5 comentarios válidos\n",
    "    for c in submission.comments[:5]:\n",
    "        if hasattr(c, \"body\") and c.body.lower() not in (\"[deleted]\", \"[removed]\"):\n",
    "            comments_data.append({\n",
    "                \"post_id\": pid,\n",
    "                \"body\": c.body,\n",
    "                \"score\": c.score\n",
    "            })\n",
    "\n",
    "df_comments = pd.DataFrame(comments_data, columns=[\"post_id\", \"body\", \"score\"])\n",
    "print(\"Comentarios recolectados:\", len(df_comments))\n",
    "df_comments.head()\n"
   ]
  },
  {
   "cell_type": "code",
   "execution_count": null,
   "id": "0a2cc611-0023-43c8-be8b-ca18723258d5",
   "metadata": {},
   "outputs": [],
   "source": [
    "print(\"¿Existe df_posts?\", \"df_posts\" in globals())"
   ]
  },
  {
   "cell_type": "code",
   "execution_count": null,
   "id": "0b7dc248-99de-4192-b5b7-a31b27ec24cc",
   "metadata": {},
   "outputs": [],
   "source": [
    "import pandas as pd\n",
    "\n",
    "# Asegura nombres y tipos\n",
    "df[\"id\"] = df[\"id\"].astype(str)                # posts\n",
    "df_comments[\"post_id\"] = df_comments[\"post_id\"].astype(str)  # comments\n",
    "\n",
    "# 1) guarda tablas “limpias”\n",
    "df.to_csv(\"reddit_posts.csv\", index=False, encoding=\"utf-8\")\n",
    "df_comments.to_csv(\"reddit_comments.csv\", index=False, encoding=\"utf-8\")\n",
    "\n",
    "# 2) crea tabla combinada vinculando cada comentario con su post\n",
    "combined = df_comments.merge(\n",
    "    df[[\"id\",\"subreddit\",\"title\",\"url\"]],\n",
    "    left_on=\"post_id\", right_on=\"id\", how=\"left\", validate=\"many_to_one\"\n",
    ").rename(columns={\"id\":\"post_id\"})[[\"post_id\",\"subreddit\",\"title\",\"body\",\"score\",\"url\"]]\n",
    "\n",
    "combined.to_csv(\"reddit_comments_joined.csv\", index=False, encoding=\"utf-8\")\n",
    "print(\"Guardados: reddit_posts.csv, reddit_comments.csv, reddit_comments_joined.csv\")\n",
    "combined.head()\n"
   ]
  }
 ],
 "metadata": {
  "kernelspec": {
   "display_name": "Python [conda env:base] *",
   "language": "python",
   "name": "conda-base-py"
  },
  "language_info": {
   "codemirror_mode": {
    "name": "ipython",
    "version": 3
   },
   "file_extension": ".py",
   "mimetype": "text/x-python",
   "name": "python",
   "nbconvert_exporter": "python",
   "pygments_lexer": "ipython3",
   "version": "3.13.5"
  }
 },
 "nbformat": 4,
 "nbformat_minor": 5
}
